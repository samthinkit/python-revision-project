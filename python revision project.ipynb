{
  "nbformat": 4,
  "nbformat_minor": 0,
  "metadata": {
    "colab": {
      "name": "Untitled0.ipynb",
      "provenance": [],
      "collapsed_sections": []
    },
    "kernelspec": {
      "name": "python3",
      "display_name": "Python 3"
    },
    "language_info": {
      "name": "python"
    }
  },
  "cells": [
    {
      "cell_type": "code",
      "execution_count": 37,
      "metadata": {
        "colab": {
          "base_uri": "https://localhost:8080/"
        },
        "id": "uGlr9_NIGj5h",
        "outputId": "108ebff8-c256-46e0-81e2-a04ef042c295"
      },
      "outputs": [
        {
          "output_type": "stream",
          "name": "stdout",
          "text": [
            "|----/ \n",
            "|   /\n",
            "|  /\n",
            "| /\n",
            "|/\n"
          ]
        }
      ],
      "source": [
        "#creating triangleb\n",
        "\n",
        "print(\"|----/ \"  )\n",
        "print(\"|   /\")\n",
        "print(\"|  /\")\n",
        "print(\"| /\")\n",
        "print(\"|/\")"
      ]
    },
    {
      "cell_type": "code",
      "source": [
        "print('giraffe\\nsndfkjnshdf')"
      ],
      "metadata": {
        "colab": {
          "base_uri": "https://localhost:8080/"
        },
        "id": "VVWsdflGMIMt",
        "outputId": "5617be9a-64af-4bb0-b518-6cfdfbad438c"
      },
      "execution_count": 2,
      "outputs": [
        {
          "output_type": "stream",
          "name": "stdout",
          "text": [
            "giraffe\n",
            "sndfkjnshdf\n"
          ]
        }
      ]
    },
    {
      "cell_type": "code",
      "source": [
        "print('giraffe\\'lmfgdsmfg')"
      ],
      "metadata": {
        "colab": {
          "base_uri": "https://localhost:8080/"
        },
        "id": "JNw2hF-uMahH",
        "outputId": "77124c5d-cd76-45b2-d31e-a3e668e88c21"
      },
      "execution_count": 3,
      "outputs": [
        {
          "output_type": "stream",
          "name": "stdout",
          "text": [
            "giraffe'lmfgdsmfg\n"
          ]
        }
      ]
    },
    {
      "cell_type": "code",
      "source": [
        "a = 9\n",
        "print(a)"
      ],
      "metadata": {
        "colab": {
          "base_uri": "https://localhost:8080/"
        },
        "id": "E32LNpHRMyR3",
        "outputId": "19f0e27e-9573-4bc7-b7ff-bf80a935a25e"
      },
      "execution_count": 4,
      "outputs": [
        {
          "output_type": "stream",
          "name": "stdout",
          "text": [
            "9\n"
          ]
        }
      ]
    },
    {
      "cell_type": "markdown",
      "source": [
        "## **Working with strings\\\\**\n"
      ],
      "metadata": {
        "id": "93F8KR40bc5R"
      }
    },
    {
      "cell_type": "code",
      "source": [
        "pharase = 'pythonista'\n",
        "pharase2 = 'SKFKLSF'\n",
        "print(pharase.capitalize()) #capitalise firs character\n",
        "print(pharase.upper())      #capitalise each character\n",
        "print(pharase2.casefold())  #lowercase each character\n",
        "\n",
        "print(pharase.isupper()) #check if it is upper\n",
        "print(pharase.upper().isupper())  # just checking\n",
        "print(pharase[0]) #first character of pharase\n",
        "print(pharase[3]) #fourth character of pharase\n",
        "print(pharase.index('p')) #return index of entered index\n",
        "print(pharase.index('s')) #return index of entered index\n",
        "print(pharase.replace('a', 'B')) #replacing first 'a' with 'B'\n",
        "\n"
      ],
      "metadata": {
        "id": "wAetMGYoNdOJ"
      },
      "execution_count": null,
      "outputs": []
    },
    {
      "cell_type": "markdown",
      "source": [
        "# **Working with Numbers**"
      ],
      "metadata": {
        "id": "lGW0pzaHbtDq"
      }
    },
    {
      "cell_type": "code",
      "source": [
        "a = -5\n",
        "print(2)\n",
        "print(3+7)\n",
        "print(-.2568)\n",
        "print(20%3)  #mod of 3 out of 20 which is 2\n",
        "print(str(a)+' şanlslı numaram')\n",
        "print(abs(a)) #absolute value of a\n",
        "print(pow(10,2)) # 10^2\n",
        "print(max(5,a)) # maximum of a which is -5 and 5 so get 5 at the end\n",
        "print(min(5,a))  # minumum of a which is -5 and 5 so get -5 at the end \n",
        "print(round(5.4))\n",
        "print(round(5.7))\n",
        "from math import *\n",
        "print(floor(6.9)) # greatest integer but not greater than entered value\n",
        "print(ceil(6.9))  #  smallest integer but greated than entered value\n",
        "print(ceil(9.4))\n",
        "print(floor(7.3))\n",
        "print(sqrt(7.3))"
      ],
      "metadata": {
        "id": "1e44649_b8_W"
      },
      "execution_count": null,
      "outputs": []
    },
    {
      "cell_type": "markdown",
      "source": [
        "# **getting input from users**"
      ],
      "metadata": {
        "id": "Dj-73eCzrWKB"
      }
    },
    {
      "cell_type": "code",
      "source": [
        "input('enter anything: ')\n",
        "input_in =  input('enter anything: ')\n",
        "print( input('enter a name: ')  + ' ' + input(' enter a number: ') )"
      ],
      "metadata": {
        "id": "U0y7-fVzraSO"
      },
      "execution_count": null,
      "outputs": []
    },
    {
      "cell_type": "markdown",
      "source": [
        "# Building a basic **calculator**"
      ],
      "metadata": {
        "id": "gNlyTDwlunYq"
      }
    },
    {
      "cell_type": "code",
      "source": [
        "num1 = int(input('enter a number: '))\n",
        "num2 = int(input('enter another  number: '))\n",
        "result = num1 + num2 \n",
        "print(result)\n",
        "\n",
        "num3 = float(input('enter a number: '))\n",
        "num4 = float(input('enter another  number: '))\n",
        "result2 = (num3) + (num4) \n",
        "print(result2)"
      ],
      "metadata": {
        "id": "1ZHy9gUVurGA"
      },
      "execution_count": null,
      "outputs": []
    },
    {
      "cell_type": "markdown",
      "source": [
        "# **Mad lib game**"
      ],
      "metadata": {
        "id": "RyeuspJaylq_"
      }
    },
    {
      "cell_type": "code",
      "source": [
        "color = input('enter a color: ')\n",
        "plural_noun = input('enter a plural noun: ')\n",
        "celebrity = input('enter a celebrity: ')\n",
        "print('roses are ' + color)\n",
        "print(plural_noun+ ' are blue')\n",
        "print('I love ' + celebrity)\n"
      ],
      "metadata": {
        "id": "i-m6fbHayk5O"
      },
      "execution_count": null,
      "outputs": []
    },
    {
      "cell_type": "code",
      "source": [
        "lst = [12, 56, 89, 999, 789]\n",
        "print(lst[1])  # access 2nd item\n",
        "print(lst.index(89))  # access entered item of index\n",
        "print(lst[1:])"
      ],
      "metadata": {
        "id": "t0gq_dKX10tG"
      },
      "execution_count": null,
      "outputs": []
    },
    {
      "cell_type": "code",
      "source": [
        "number = [12, 36 , 98, 78, 45, 62] \n",
        "friends = [\"ali\", \"kevin\", \"cüneyt\", \"barbara\", \"bella\"]\n",
        "number.extend(friends)\n",
        "number\n",
        "updated_number_list_diff = list(set(number).difference(set(friends)))\n",
        "print(updated_number_list_diff)\n",
        "friends.append('melisa')  #add at the end of list\n",
        "print(friends)\n",
        "friends.insert(1, 'miriam') \n",
        "print(friends)\n",
        "friends.reverse() #The reverse() method reverses the sorting order of the elements # reversed do the same\n",
        "print(friends)\n",
        "print(list(reversed(friends)))  #The reversed() function returns a reversed iterator object.\n",
        "friends.sort() #The sort() method sorts the list ascending by default.\n",
        "print(friends)\n",
        "x = friends.copy()  #The copy() method returns a copy of the specified list.\n",
        "print(x)\n",
        "friends.pop(3) #The pop() method removes the element at the specified position.\n",
        "print(friends)\n",
        "friends.remove('ali') #remove item of 'ali'\n",
        "print(friends)\n",
        "print(friends.count('kevin')) #return how mant times exist 'kevin' in a list\n",
        "friends.clear() #The clear() method removes all the elements from a list.\n",
        "print(friends)\n"
      ],
      "metadata": {
        "id": "YBHp7pmcYxgJ"
      },
      "execution_count": null,
      "outputs": []
    },
    {
      "cell_type": "code",
      "source": [
        "#tuples are immutable\n",
        "tuple_1 = (1,2)\n",
        "#  tuple_1[0]  = 5 gives error\n"
      ],
      "metadata": {
        "id": "O32dMb2spHPI"
      },
      "execution_count": null,
      "outputs": []
    },
    {
      "cell_type": "markdown",
      "source": [
        "# **function**\n"
      ],
      "metadata": {
        "id": "IBMQ8xGF0jdz"
      }
    },
    {
      "cell_type": "code",
      "source": [
        "def hello():\n",
        "  print('hello idiot')\n",
        "hello()\n",
        "\n",
        "def hello():\n",
        "  name = input('enter a name:')\n",
        "  return ('hello ' +name)\n",
        "hello()  \n",
        "\n",
        "def func():\n",
        "  name = input('enter a name: ')\n",
        "  age = input('enter an age: ')\n",
        "  print('hello' +\" \"+ name +\" \"+ age  )\n",
        "func()\n",
        "\n",
        "def cube(num):\n",
        "  num*num*num\n",
        "print(cube(9))  \n",
        "def cube(num):\n",
        "  return(num*num*num)\n",
        "print(cube(9))\n",
        "\n",
        "def square(num):\n",
        "  print(num*num)\n",
        "square(9)  \n"
      ],
      "metadata": {
        "id": "B6fCZ-4j0mBu"
      },
      "execution_count": null,
      "outputs": []
    },
    {
      "cell_type": "markdown",
      "source": [
        "# if **statement**"
      ],
      "metadata": {
        "id": "lsGTQektCQBw"
      }
    },
    {
      "cell_type": "code",
      "source": [
        "is_male = True\n",
        "if is_male:  # it is going to pass print value\n",
        "  print('you fuck*d up')\n",
        "else:\n",
        "  print('what are you')  \n",
        "\n",
        "is_female = False\n",
        "if is_female: # it is going to pass print value \n",
        "  print('you are a gift of a god who created you at the end of seventh day')  \n",
        "\n",
        "is_check= True\n",
        "is_check2 = True\n",
        "if is_check or is_check2:  # it is going to pass print value\n",
        "  print('you are ok')\n",
        "else:\n",
        "  print('what are you')  \n",
        "\n",
        "\n",
        "\n",
        "is_check3= False\n",
        "is_check4 = False\n",
        "if is_check3 and is_check4:\n",
        "  print('both')\n",
        "else:\n",
        "  print('none of this')  \n",
        "\n",
        "\n",
        "\n",
        "is_male = True\n",
        "is_short = False\n",
        "\n",
        "if is_male and is_short:\n",
        "  print('u r not short male')\n",
        "elif is_male and not is_short:\n",
        "  print('u r short male')\n",
        "elif  not is_male and is_short:\n",
        "  print('u r tall female')\n",
        "else: \n",
        "  print('neither male nor tall female ')   \n",
        "\n"
      ],
      "metadata": {
        "id": "vkoALq62CStp"
      },
      "execution_count": null,
      "outputs": []
    },
    {
      "cell_type": "markdown",
      "source": [
        "# **if statement and comparison**"
      ],
      "metadata": {
        "id": "T9-Dk0vTTMJb"
      }
    },
    {
      "cell_type": "code",
      "source": [
        "def maxnum(num1, num2, num3):\n",
        "  if num1 >= num2 and num1 >= num3 :\n",
        "    return num1\n",
        "  elif num2 >= num1 and num2 >=num3:\n",
        "    return num2\n",
        "  else:\n",
        "    return num3\n",
        "print(maxnum(100,101,102))       "
      ],
      "metadata": {
        "colab": {
          "base_uri": "https://localhost:8080/"
        },
        "id": "_DVcEDOcTT3x",
        "outputId": "dcf0d18d-fb30-4849-be49-d19d601f75a7"
      },
      "execution_count": 3,
      "outputs": [
        {
          "output_type": "stream",
          "name": "stdout",
          "text": [
            "102\n"
          ]
        }
      ]
    },
    {
      "cell_type": "markdown",
      "source": [
        "# **basic calculator**"
      ],
      "metadata": {
        "id": "Von3konoV3pj"
      }
    },
    {
      "cell_type": "code",
      "source": [
        "num1 = float(input('enter a number: '))\n",
        "operator = input('enter an operator: ')\n",
        "num2 = float(input('enter a number: '))\n",
        "\n",
        "if operator == '+':\n",
        "  print( num1+num2)\n",
        "elif operator == '-':\n",
        "  print(num1-num2)\n",
        "elif  operator == '/':\n",
        "  print(num1/num2)\n",
        "elif operator == '*':\n",
        "  print(num1*num2    )\n",
        "else: \n",
        "  print('error: invalid operator')"
      ],
      "metadata": {
        "id": "Z0bXO_A6V7bc"
      },
      "execution_count": null,
      "outputs": []
    },
    {
      "cell_type": "markdown",
      "source": [
        "# **Dictionary**"
      ],
      "metadata": {
        "id": "Ngc8846SYzLq"
      }
    },
    {
      "cell_type": "code",
      "source": [
        "month = {\n",
        "    'nov': 'november',\n",
        "    'feb': 'february',\n",
        "    'jan': 'january'\n",
        "\n",
        "}\n",
        "\n",
        "print(month)\n",
        "print(month['feb'])\n",
        "print(month.get('jan'))"
      ],
      "metadata": {
        "colab": {
          "base_uri": "https://localhost:8080/"
        },
        "id": "LI687pzpZAes",
        "outputId": "7ff9a6f9-aaca-4b1e-a781-3f8d0c0aa316"
      },
      "execution_count": 15,
      "outputs": [
        {
          "output_type": "stream",
          "name": "stdout",
          "text": [
            "{'nov': 'november', 'feb': 'february', 'jan': 'january'}\n",
            "february\n",
            "january\n"
          ]
        }
      ]
    },
    {
      "cell_type": "markdown",
      "source": [
        "while loop\n"
      ],
      "metadata": {
        "id": "qXtEHq0op3ou"
      }
    },
    {
      "cell_type": "code",
      "source": [
        "i = 1\n",
        "while i <=10:\n",
        "  print(i)\n",
        "  i = i+1\n",
        "  i += 1\n",
        "print('end of loop')  "
      ],
      "metadata": {
        "id": "lTH1PjECp5bJ"
      },
      "execution_count": null,
      "outputs": []
    },
    {
      "cell_type": "markdown",
      "source": [
        "Guessing game"
      ],
      "metadata": {
        "id": "_0n941WAr6Si"
      }
    },
    {
      "cell_type": "code",
      "source": [
        "secret_word = 'uptodate'\n",
        "guess = \"\"sdfsgbsds\n",
        "guess_count = 0\n",
        "guess_limit = 5\n",
        "out_of_guest = False\n",
        "while secret_word != guess and not out_of_guest:\n",
        "   if guess_count < guess_limit:\n",
        "    guess= input('enter a guess: ')\n",
        "    guess_count += 1\n",
        "   else: \n",
        "      out_of_guest = True\n",
        "if out_of_guest == True:\n",
        "  print('you are out of line :(')\n",
        "else:\n",
        "  print('you predict very well bi*ch')\n"
      ],
      "metadata": {
        "id": "0z2y1HK4r8UY"
      },
      "execution_count": null,
      "outputs": []
    },
    {
      "cell_type": "markdown",
      "source": [
        "for loop\n"
      ],
      "metadata": {
        "id": "CZPC6PAq8TBC"
      }
    },
    {
      "cell_type": "code",
      "source": [
        "lst = ['sdsdbgfjbs', 'nbajbdjbasfdb', 'sjdfhsdjkfh']\n",
        "\n",
        "for i in range(len(lst)):\n",
        "  print(lst[i])\n",
        "\n",
        "\n",
        "\n",
        "for i in  range(len(lst)):\n",
        "  if  i ==2:\n",
        "    print('secondelement')\n",
        "  else:\n",
        "    print('ordinary element')    \n",
        "\n",
        "# power of numbers\n",
        "def power(num1, num2):\n",
        "  result = 1\n",
        "  for i in range(num2):    \n",
        "    result = result * num1\n",
        "  return result    \n",
        "print(power(2,30))\n",
        "\n",
        "\n",
        "#power of numbes\n",
        "def ppow(num1, num2):\n",
        "  return num1**num2\n",
        "print(ppow(5,2))  \n",
        "\n",
        "new_lst =[]\n",
        "nestes_list = [[1, 2, 3, 4\n",
        "               ] , [5,6,7,8], [9,10,11,12], [0] ]\n",
        "for i in nestes_list:\n",
        "  for j in i:\n",
        "    new_lst.append(j)\n",
        "new_lst.sort()\n",
        "print(new_lst)\n"
      ],
      "metadata": {
        "id": "aIYZ7OD88RKg"
      },
      "execution_count": null,
      "outputs": []
    },
    {
      "cell_type": "markdown",
      "source": [
        "translator"
      ],
      "metadata": {
        "id": "l-FQb7jrM-ai"
      }
    },
    {
      "cell_type": "code",
      "source": [
        "def translate(pharase):\n",
        "  translation= \"\"\n",
        "  for letter in pharase:\n",
        "    if letter in \"AEUÜIOÖaeuüioö\":\n",
        "      translation = translation + \"g\"\n",
        "    else: \n",
        "      translation = translation + letter  \n",
        "  return translation\n",
        "print(translate(input(\"enter sth: \")) ) \n",
        "\n",
        "\n",
        "#second func\n",
        "\n",
        "def trans(sth):\n",
        "  lst = []\n",
        "  a = \"AEUÜIOÖaeuüioö\"\n",
        "  for i in sth:\n",
        "    if i in a:\n",
        "      sth =sth.replace( i,'g')\n",
        "  return sth  \n",
        "  \n",
        "print(trans(input(\"enter sth: \")))\n"
      ],
      "metadata": {
        "id": "n5chL3EiNNGA"
      },
      "execution_count": null,
      "outputs": []
    },
    {
      "cell_type": "markdown",
      "source": [
        "**try and except**"
      ],
      "metadata": {
        "id": "WogD7aL5l4SB"
      }
    },
    {
      "cell_type": "code",
      "source": [
        "try:\n",
        "  a = int(input(\"enter number: \"))\n",
        "  print(a)\n",
        "except:\n",
        "  print(\"invalid input\")  \n",
        "\n",
        "\n",
        "\n",
        "try: \n",
        "  c = 10/0 # if it its not removed it keep only division error constantly\n",
        "  b  = int(input(\"enter number: \"))\n",
        "  print(b)\n",
        "except ZeroDivisionError:\n",
        "  print(\"division by zero\")\n",
        "except ValueError:\n",
        "  print(\"invalid input\")\n"
      ],
      "metadata": {
        "colab": {
          "base_uri": "https://localhost:8080/"
        },
        "id": "sIJULSFql8lo",
        "outputId": "df65ba51-6cb7-4025-d12a-420a6c19a7b1"
      },
      "execution_count": 106,
      "outputs": [
        {
          "output_type": "stream",
          "name": "stdout",
          "text": [
            "enter number: 5\n",
            "5\n",
            "division by zero\n"
          ]
        }
      ]
    },
    {
      "cell_type": "markdown",
      "source": [
        "Reading Files and writing files to be filled later "
      ],
      "metadata": {
        "id": "9OvypIi_zyZC"
      }
    },
    {
      "cell_type": "code",
      "source": [
        "\n",
        "open(\"New Text Document.txt\", \"r\")  # read only\n",
        "open(\"New Text Document.txt\", \"w\")  #write only\n",
        "open(\"New Text Document.txt\", \"r+\") #read and write\n",
        "open(\"New Text Document.txt\", \"a\")  # append information to the file"
      ],
      "metadata": {
        "id": "Jt5YZHVpz28v"
      },
      "execution_count": null,
      "outputs": []
    },
    {
      "cell_type": "markdown",
      "source": [
        "***modules and pips to be continued..***\n",
        "\n",
        "pycharm has its lib on the left so check out python .org see the source code there, other than that you can use other people modelus using cmd windows command prompt or alread installled at the windows "
      ],
      "metadata": {
        "id": "ylYC5zvVBsbt"
      }
    },
    {
      "cell_type": "markdown",
      "source": [
        "classes and **objects**"
      ],
      "metadata": {
        "id": "EJ5e5ES8HKCG"
      }
    },
    {
      "cell_type": "code",
      "source": [
        "#creating your data type bcs not every thing can be python data type cover real life examples\n",
        "\n",
        "class Student:\n",
        "  def __init__(self, name,age, major, gpa ):\n",
        "    self.name=name\n",
        "    self.age=age\n",
        "    self.major=major\n",
        "    self.gpa=gpa\n",
        "\n",
        "student1=Student(\"melek\", 31, \"business\", 3.30 )\n",
        "\n",
        "student2=Student(\"melisa\", 21, \"elementary\", 1.30 )\n",
        "\n",
        "print(student1.name )\n",
        "print(student1.gpa)\n",
        "print(student2.age)\n",
        "print(student2.major)\n",
        "\n",
        "\n",
        "##if its a py module use: 'from module_name import  module_name'"
      ],
      "metadata": {
        "id": "zDUC692jKibz"
      },
      "execution_count": null,
      "outputs": []
    },
    {
      "cell_type": "markdown",
      "source": [
        "quiz excercise\n"
      ],
      "metadata": {
        "id": "Bc2KjNhIeN_q"
      }
    },
    {
      "cell_type": "code",
      "source": [
        "class Question:\n",
        "  def __init__(self, prompt, answer):\n",
        "    self.prompt=prompt\n",
        "    self.answer=answer\n",
        "\n",
        "\n",
        "question_prompt = [\"what color are seas?\\n(a) red\\n(b) blue\\n(c) green\\n\\n\",\n",
        "\"what color are bananas?\\n(a) yellow\\n(b) blue\\n(c) green\\n\\n\",\n",
        "\"what color is sun?\\n(a) red\\n(b) blue\\n(c) yellow\\n\\n\"]\n",
        "\n",
        "questions =[ Question(question_prompt[0], \"b\"),\n",
        "             Question(question_prompt[1], \"a\"),\n",
        "             Question(question_prompt[2], \"c\") ]\n",
        "\n",
        "def quiz(questions):\n",
        "  score  = 0\n",
        "  for question in questions:\n",
        "    answer = input(question.prompt)\n",
        "    if answer  == question.answer:\n",
        "      score += 1\n",
        "  print(\"you got \" + str(score) + \" out of \" + str(len(questions)))    \n",
        "\n",
        "\n",
        "\n",
        "\n",
        "\n",
        "x = type(questions)\n",
        "y = type(question_prompt)\n",
        "print(f\" type_of_questions {x} type_of_question_prompt {y}\" )\n",
        "\n",
        "quiz(questions)\n",
        "\n",
        "\n",
        "class Student:\n",
        "  def __init__(self, gpa, name, major):\n",
        "    self.gpa=gpa\n",
        "    self.name=name\n",
        "    self.major=major\n",
        "\n",
        "  def honor_check(self):\n",
        "    if self.gpa < 4.0:\n",
        "      return False\n",
        "    else:\n",
        "      return True  \n",
        "\n",
        "\n",
        "stu1 =Student(4.0, \"sam\", \"econ\")\n",
        "stu2 = Student(3.0,'mero', \"gemimakine\")\n",
        "\n",
        "print(stu1.honor_check())"
      ],
      "metadata": {
        "id": "bVlSCdAneNOS"
      },
      "execution_count": null,
      "outputs": []
    },
    {
      "cell_type": "markdown",
      "source": [
        "inheritance"
      ],
      "metadata": {
        "id": "Z2HFapG74X_P"
      }
    },
    {
      "cell_type": "code",
      "source": [
        "class Chef_foreign:\n",
        "  def make_salad(self):\n",
        "    print(\"xhef can make salad\")\n",
        "  def make_chicken(self):\n",
        "    print(\"chef can make chicken\")\n",
        "  def make_kebap(self):\n",
        "    print(\"chef can make kebap\")\n",
        "\n",
        "mychef = Chef_foreign()\n",
        "\n",
        "mychef.make_salad()\n",
        "\n",
        "#inherit from foreign chef\n",
        "# you can either copy paste from upside code but it is drudgery and hard make if there are tons code\n",
        "\n",
        "# OR YOU CAN INHERIT OF CHEF_FOREIGM FUNCTION \n",
        "class Turk_chef(Chef_foreign): ## inheritance is written by \"Chef_foreign\"\n",
        "  def make_adana():\n",
        "    print(\"can also make adana kebap\")\n",
        "\n",
        "\n",
        "my_chef_2 = Turk_chef() \n",
        "\n",
        "my_chef_2.make_chicken()  #it inherit from foreign chef \n",
        "\n"
      ],
      "metadata": {
        "colab": {
          "base_uri": "https://localhost:8080/"
        },
        "id": "iJAj-Hge4UU4",
        "outputId": "9b62806c-d83b-481a-e70f-81f738782612"
      },
      "execution_count": 41,
      "outputs": [
        {
          "output_type": "stream",
          "name": "stdout",
          "text": [
            "xhef can make salad\n",
            "chef can make chicken\n"
          ]
        }
      ]
    }
  ]
}